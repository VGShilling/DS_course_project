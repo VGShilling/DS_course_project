{
  "nbformat": 4,
  "nbformat_minor": 0,
  "metadata": {
    "colab": {
      "name": "VShilling_solution.ipynb\"",
      "provenance": [],
      "collapsed_sections": []
    },
    "kernelspec": {
      "name": "python3",
      "display_name": "Python 3"
    },
    "language_info": {
      "name": "python"
    }
  },
  "cells": [
    {
      "cell_type": "code",
      "metadata": {
        "colab": {
          "base_uri": "https://localhost:8080/"
        },
        "id": "85ij6G5_KZyn",
        "outputId": "1c172682-30ee-47b0-ca7a-83f9916455ff"
      },
      "source": [
        "!pip install catboost"
      ],
      "execution_count": null,
      "outputs": [
        {
          "output_type": "stream",
          "text": [
            "Requirement already satisfied: catboost in /usr/local/lib/python3.7/dist-packages (0.26)\n",
            "Requirement already satisfied: pandas>=0.24.0 in /usr/local/lib/python3.7/dist-packages (from catboost) (1.1.5)\n",
            "Requirement already satisfied: scipy in /usr/local/lib/python3.7/dist-packages (from catboost) (1.4.1)\n",
            "Requirement already satisfied: matplotlib in /usr/local/lib/python3.7/dist-packages (from catboost) (3.2.2)\n",
            "Requirement already satisfied: numpy>=1.16.0 in /usr/local/lib/python3.7/dist-packages (from catboost) (1.19.5)\n",
            "Requirement already satisfied: plotly in /usr/local/lib/python3.7/dist-packages (from catboost) (4.4.1)\n",
            "Requirement already satisfied: graphviz in /usr/local/lib/python3.7/dist-packages (from catboost) (0.10.1)\n",
            "Requirement already satisfied: six in /usr/local/lib/python3.7/dist-packages (from catboost) (1.15.0)\n",
            "Requirement already satisfied: python-dateutil>=2.7.3 in /usr/local/lib/python3.7/dist-packages (from pandas>=0.24.0->catboost) (2.8.1)\n",
            "Requirement already satisfied: pytz>=2017.2 in /usr/local/lib/python3.7/dist-packages (from pandas>=0.24.0->catboost) (2018.9)\n",
            "Requirement already satisfied: pyparsing!=2.0.4,!=2.1.2,!=2.1.6,>=2.0.1 in /usr/local/lib/python3.7/dist-packages (from matplotlib->catboost) (2.4.7)\n",
            "Requirement already satisfied: kiwisolver>=1.0.1 in /usr/local/lib/python3.7/dist-packages (from matplotlib->catboost) (1.3.1)\n",
            "Requirement already satisfied: cycler>=0.10 in /usr/local/lib/python3.7/dist-packages (from matplotlib->catboost) (0.10.0)\n",
            "Requirement already satisfied: retrying>=1.3.3 in /usr/local/lib/python3.7/dist-packages (from plotly->catboost) (1.3.3)\n"
          ],
          "name": "stdout"
        }
      ]
    },
    {
      "cell_type": "code",
      "metadata": {
        "id": "9mwb0ehBe1Fa"
      },
      "source": [
        "import numpy as np\n",
        "import pandas as pd"
      ],
      "execution_count": null,
      "outputs": []
    },
    {
      "cell_type": "code",
      "metadata": {
        "id": "M9clXoMNGwHG"
      },
      "source": [
        "from sklearn.model_selection import train_test_split, ShuffleSplit, cross_val_score, learning_curve\n",
        "from sklearn.model_selection import KFold, GridSearchCV, RandomizedSearchCV\n",
        "from sklearn.metrics import classification_report, f1_score, precision_score, recall_score"
      ],
      "execution_count": null,
      "outputs": []
    },
    {
      "cell_type": "code",
      "metadata": {
        "id": "pkvB8iCkKHRx"
      },
      "source": [
        "import catboost as catb"
      ],
      "execution_count": null,
      "outputs": []
    },
    {
      "cell_type": "code",
      "metadata": {
        "id": "TSdPOT1YTdWg"
      },
      "source": [
        "import seaborn as sns\n",
        "from matplotlib import pyplot as plt\n",
        "%matplotlib inline"
      ],
      "execution_count": null,
      "outputs": []
    },
    {
      "cell_type": "code",
      "metadata": {
        "id": "LAPicg7BKp-G"
      },
      "source": [
        "import warnings\n",
        "warnings.simplefilter('ignore')"
      ],
      "execution_count": null,
      "outputs": []
    },
    {
      "cell_type": "code",
      "metadata": {
        "id": "zdPUUYFGKvsG"
      },
      "source": [
        "def get_classification_report(y_train_true, y_train_pred, y_test_true, y_test_pred):\n",
        "    print('TRAIN\\n\\n' + classification_report(y_train_true, y_train_pred))\n",
        "    print('TEST\\n\\n' + classification_report(y_test_true, y_test_pred))\n",
        "    print('CONFUSION MATRIX\\n')\n",
        "    print(pd.crosstab(y_test_true, y_test_pred))"
      ],
      "execution_count": null,
      "outputs": []
    },
    {
      "cell_type": "code",
      "metadata": {
        "id": "r3X35Dsi2Tls"
      },
      "source": [
        "def balance_df_by_target(df, target_name):\n",
        "\n",
        "    target_counts = df[target_name].value_counts()\n",
        "\n",
        "    major_class_name = target_counts.argmax()\n",
        "    minor_class_name = target_counts.argmin()\n",
        "\n",
        "    disbalance_coeff = int(target_counts[major_class_name] / target_counts[minor_class_name]) - 1\n",
        "\n",
        "    for i in range(disbalance_coeff):\n",
        "        sample = df[df[target_name] == minor_class_name].sample(target_counts[minor_class_name])\n",
        "        df = df.append(sample, ignore_index=True)\n",
        "\n",
        "    return df.sample(frac=1) "
      ],
      "execution_count": null,
      "outputs": []
    },
    {
      "cell_type": "code",
      "metadata": {
        "id": "wjA7qbJ0UPhD"
      },
      "source": [
        "def show_feature_importances(feature_names, feature_importances, get_top=None):\n",
        "    feature_importances = pd.DataFrame({'feature': feature_names, 'importance': feature_importances})\n",
        "    feature_importances = feature_importances.sort_values('importance', ascending=False)\n",
        "       \n",
        "    plt.figure(figsize = (20, len(feature_importances) * 0.355))\n",
        "    \n",
        "    sns.barplot(feature_importances['importance'], feature_importances['feature'])\n",
        "    \n",
        "    plt.xlabel('Importance')\n",
        "    plt.title('Importance of features')\n",
        "    plt.show()\n",
        "    \n",
        "    if get_top is not None:\n",
        "        return feature_importances['feature'][:get_top].tolist()"
      ],
      "execution_count": null,
      "outputs": []
    },
    {
      "cell_type": "markdown",
      "metadata": {
        "id": "19gXQKVogz4M"
      },
      "source": [
        "Пути к файлам"
      ]
    },
    {
      "cell_type": "code",
      "metadata": {
        "id": "WeBISRw5graC"
      },
      "source": [
        "TRAIN_DATASET_PATH = 'C:\\course_project\\course_project_train.csv'\n",
        "TEST_DATASET_PATH = 'C:\\course_project\\course_project_test.csv'"
      ],
      "execution_count": null,
      "outputs": []
    },
    {
      "cell_type": "markdown",
      "metadata": {
        "id": "jl2FAfDyTN-_"
      },
      "source": [
        "###Загрузка данных"
      ]
    },
    {
      "cell_type": "code",
      "metadata": {
        "id": "t4dM4ZrygCFo"
      },
      "source": [
        "df_test = pd.read_csv(TEST_DATASET_PATH)"
      ],
      "execution_count": null,
      "outputs": []
    },
    {
      "cell_type": "code",
      "metadata": {
        "colab": {
          "base_uri": "https://localhost:8080/",
          "height": 582
        },
        "id": "J7YLaxO1hEij",
        "outputId": "92b639bb-6a5e-4a82-f74d-9aaabd84ebff"
      },
      "source": [
        "df_train = pd.read_csv(TRAIN_DATASET_PATH)\n",
        "df_train.head(10)"
      ],
      "execution_count": null,
      "outputs": [
        {
          "output_type": "execute_result",
          "data": {
            "text/html": [
              "<div>\n",
              "<style scoped>\n",
              "    .dataframe tbody tr th:only-of-type {\n",
              "        vertical-align: middle;\n",
              "    }\n",
              "\n",
              "    .dataframe tbody tr th {\n",
              "        vertical-align: top;\n",
              "    }\n",
              "\n",
              "    .dataframe thead th {\n",
              "        text-align: right;\n",
              "    }\n",
              "</style>\n",
              "<table border=\"1\" class=\"dataframe\">\n",
              "  <thead>\n",
              "    <tr style=\"text-align: right;\">\n",
              "      <th></th>\n",
              "      <th>Home Ownership</th>\n",
              "      <th>Annual Income</th>\n",
              "      <th>Years in current job</th>\n",
              "      <th>Tax Liens</th>\n",
              "      <th>Number of Open Accounts</th>\n",
              "      <th>Years of Credit History</th>\n",
              "      <th>Maximum Open Credit</th>\n",
              "      <th>Number of Credit Problems</th>\n",
              "      <th>Months since last delinquent</th>\n",
              "      <th>Bankruptcies</th>\n",
              "      <th>Purpose</th>\n",
              "      <th>Term</th>\n",
              "      <th>Current Loan Amount</th>\n",
              "      <th>Current Credit Balance</th>\n",
              "      <th>Monthly Debt</th>\n",
              "      <th>Credit Score</th>\n",
              "      <th>Credit Default</th>\n",
              "    </tr>\n",
              "  </thead>\n",
              "  <tbody>\n",
              "    <tr>\n",
              "      <th>0</th>\n",
              "      <td>Own Home</td>\n",
              "      <td>482087.0</td>\n",
              "      <td>NaN</td>\n",
              "      <td>0.0</td>\n",
              "      <td>11.0</td>\n",
              "      <td>26.3</td>\n",
              "      <td>685960.0</td>\n",
              "      <td>1.0</td>\n",
              "      <td>NaN</td>\n",
              "      <td>1.0</td>\n",
              "      <td>debt consolidation</td>\n",
              "      <td>Short Term</td>\n",
              "      <td>99999999.0</td>\n",
              "      <td>47386.0</td>\n",
              "      <td>7914.0</td>\n",
              "      <td>749.0</td>\n",
              "      <td>0</td>\n",
              "    </tr>\n",
              "    <tr>\n",
              "      <th>1</th>\n",
              "      <td>Own Home</td>\n",
              "      <td>1025487.0</td>\n",
              "      <td>10+ years</td>\n",
              "      <td>0.0</td>\n",
              "      <td>15.0</td>\n",
              "      <td>15.3</td>\n",
              "      <td>1181730.0</td>\n",
              "      <td>0.0</td>\n",
              "      <td>NaN</td>\n",
              "      <td>0.0</td>\n",
              "      <td>debt consolidation</td>\n",
              "      <td>Long Term</td>\n",
              "      <td>264968.0</td>\n",
              "      <td>394972.0</td>\n",
              "      <td>18373.0</td>\n",
              "      <td>737.0</td>\n",
              "      <td>1</td>\n",
              "    </tr>\n",
              "    <tr>\n",
              "      <th>2</th>\n",
              "      <td>Home Mortgage</td>\n",
              "      <td>751412.0</td>\n",
              "      <td>8 years</td>\n",
              "      <td>0.0</td>\n",
              "      <td>11.0</td>\n",
              "      <td>35.0</td>\n",
              "      <td>1182434.0</td>\n",
              "      <td>0.0</td>\n",
              "      <td>NaN</td>\n",
              "      <td>0.0</td>\n",
              "      <td>debt consolidation</td>\n",
              "      <td>Short Term</td>\n",
              "      <td>99999999.0</td>\n",
              "      <td>308389.0</td>\n",
              "      <td>13651.0</td>\n",
              "      <td>742.0</td>\n",
              "      <td>0</td>\n",
              "    </tr>\n",
              "    <tr>\n",
              "      <th>3</th>\n",
              "      <td>Own Home</td>\n",
              "      <td>805068.0</td>\n",
              "      <td>6 years</td>\n",
              "      <td>0.0</td>\n",
              "      <td>8.0</td>\n",
              "      <td>22.5</td>\n",
              "      <td>147400.0</td>\n",
              "      <td>1.0</td>\n",
              "      <td>NaN</td>\n",
              "      <td>1.0</td>\n",
              "      <td>debt consolidation</td>\n",
              "      <td>Short Term</td>\n",
              "      <td>121396.0</td>\n",
              "      <td>95855.0</td>\n",
              "      <td>11338.0</td>\n",
              "      <td>694.0</td>\n",
              "      <td>0</td>\n",
              "    </tr>\n",
              "    <tr>\n",
              "      <th>4</th>\n",
              "      <td>Rent</td>\n",
              "      <td>776264.0</td>\n",
              "      <td>8 years</td>\n",
              "      <td>0.0</td>\n",
              "      <td>13.0</td>\n",
              "      <td>13.6</td>\n",
              "      <td>385836.0</td>\n",
              "      <td>1.0</td>\n",
              "      <td>NaN</td>\n",
              "      <td>0.0</td>\n",
              "      <td>debt consolidation</td>\n",
              "      <td>Short Term</td>\n",
              "      <td>125840.0</td>\n",
              "      <td>93309.0</td>\n",
              "      <td>7180.0</td>\n",
              "      <td>719.0</td>\n",
              "      <td>0</td>\n",
              "    </tr>\n",
              "    <tr>\n",
              "      <th>5</th>\n",
              "      <td>Rent</td>\n",
              "      <td>NaN</td>\n",
              "      <td>7 years</td>\n",
              "      <td>0.0</td>\n",
              "      <td>12.0</td>\n",
              "      <td>14.6</td>\n",
              "      <td>366784.0</td>\n",
              "      <td>0.0</td>\n",
              "      <td>NaN</td>\n",
              "      <td>0.0</td>\n",
              "      <td>other</td>\n",
              "      <td>Long Term</td>\n",
              "      <td>337304.0</td>\n",
              "      <td>165680.0</td>\n",
              "      <td>18692.0</td>\n",
              "      <td>NaN</td>\n",
              "      <td>1</td>\n",
              "    </tr>\n",
              "    <tr>\n",
              "      <th>6</th>\n",
              "      <td>Home Mortgage</td>\n",
              "      <td>1511108.0</td>\n",
              "      <td>10+ years</td>\n",
              "      <td>0.0</td>\n",
              "      <td>9.0</td>\n",
              "      <td>20.3</td>\n",
              "      <td>388124.0</td>\n",
              "      <td>0.0</td>\n",
              "      <td>73.0</td>\n",
              "      <td>0.0</td>\n",
              "      <td>home improvements</td>\n",
              "      <td>Short Term</td>\n",
              "      <td>99999999.0</td>\n",
              "      <td>51623.0</td>\n",
              "      <td>2317.0</td>\n",
              "      <td>745.0</td>\n",
              "      <td>0</td>\n",
              "    </tr>\n",
              "    <tr>\n",
              "      <th>7</th>\n",
              "      <td>Rent</td>\n",
              "      <td>1040060.0</td>\n",
              "      <td>10+ years</td>\n",
              "      <td>0.0</td>\n",
              "      <td>13.0</td>\n",
              "      <td>12.0</td>\n",
              "      <td>330374.0</td>\n",
              "      <td>0.0</td>\n",
              "      <td>18.0</td>\n",
              "      <td>0.0</td>\n",
              "      <td>other</td>\n",
              "      <td>Short Term</td>\n",
              "      <td>250888.0</td>\n",
              "      <td>89015.0</td>\n",
              "      <td>19761.0</td>\n",
              "      <td>705.0</td>\n",
              "      <td>1</td>\n",
              "    </tr>\n",
              "    <tr>\n",
              "      <th>8</th>\n",
              "      <td>Home Mortgage</td>\n",
              "      <td>NaN</td>\n",
              "      <td>5 years</td>\n",
              "      <td>0.0</td>\n",
              "      <td>17.0</td>\n",
              "      <td>15.7</td>\n",
              "      <td>0.0</td>\n",
              "      <td>1.0</td>\n",
              "      <td>NaN</td>\n",
              "      <td>1.0</td>\n",
              "      <td>home improvements</td>\n",
              "      <td>Short Term</td>\n",
              "      <td>129734.0</td>\n",
              "      <td>19.0</td>\n",
              "      <td>17.0</td>\n",
              "      <td>NaN</td>\n",
              "      <td>0</td>\n",
              "    </tr>\n",
              "    <tr>\n",
              "      <th>9</th>\n",
              "      <td>Home Mortgage</td>\n",
              "      <td>NaN</td>\n",
              "      <td>1 year</td>\n",
              "      <td>0.0</td>\n",
              "      <td>10.0</td>\n",
              "      <td>24.6</td>\n",
              "      <td>511302.0</td>\n",
              "      <td>0.0</td>\n",
              "      <td>6.0</td>\n",
              "      <td>0.0</td>\n",
              "      <td>debt consolidation</td>\n",
              "      <td>Long Term</td>\n",
              "      <td>572880.0</td>\n",
              "      <td>205333.0</td>\n",
              "      <td>17613.0</td>\n",
              "      <td>NaN</td>\n",
              "      <td>1</td>\n",
              "    </tr>\n",
              "  </tbody>\n",
              "</table>\n",
              "</div>"
            ],
            "text/plain": [
              "  Home Ownership  Annual Income  ... Credit Score  Credit Default\n",
              "0       Own Home       482087.0  ...        749.0               0\n",
              "1       Own Home      1025487.0  ...        737.0               1\n",
              "2  Home Mortgage       751412.0  ...        742.0               0\n",
              "3       Own Home       805068.0  ...        694.0               0\n",
              "4           Rent       776264.0  ...        719.0               0\n",
              "5           Rent            NaN  ...          NaN               1\n",
              "6  Home Mortgage      1511108.0  ...        745.0               0\n",
              "7           Rent      1040060.0  ...        705.0               1\n",
              "8  Home Mortgage            NaN  ...          NaN               0\n",
              "9  Home Mortgage            NaN  ...          NaN               1\n",
              "\n",
              "[10 rows x 17 columns]"
            ]
          },
          "metadata": {
            "tags": []
          },
          "execution_count": 324
        }
      ]
    },
    {
      "cell_type": "code",
      "metadata": {
        "colab": {
          "base_uri": "https://localhost:8080/"
        },
        "id": "O-AXEBd8hQHL",
        "outputId": "c727fd49-1aec-4b6c-ccb8-4d903307a70c"
      },
      "source": [
        "df_train['Credit Default'].value_counts()"
      ],
      "execution_count": null,
      "outputs": [
        {
          "output_type": "execute_result",
          "data": {
            "text/plain": [
              "0    5387\n",
              "1    2113\n",
              "Name: Credit Default, dtype: int64"
            ]
          },
          "metadata": {
            "tags": []
          },
          "execution_count": 325
        }
      ]
    },
    {
      "cell_type": "code",
      "metadata": {
        "colab": {
          "base_uri": "https://localhost:8080/"
        },
        "id": "R5s-l82-kU0l",
        "outputId": "cf28db0f-af0d-4e36-d9c0-b319d2c69d0b"
      },
      "source": [
        "df_train.info()"
      ],
      "execution_count": null,
      "outputs": [
        {
          "output_type": "stream",
          "text": [
            "<class 'pandas.core.frame.DataFrame'>\n",
            "RangeIndex: 7500 entries, 0 to 7499\n",
            "Data columns (total 17 columns):\n",
            " #   Column                        Non-Null Count  Dtype  \n",
            "---  ------                        --------------  -----  \n",
            " 0   Home Ownership                7500 non-null   object \n",
            " 1   Annual Income                 5943 non-null   float64\n",
            " 2   Years in current job          7129 non-null   object \n",
            " 3   Tax Liens                     7500 non-null   float64\n",
            " 4   Number of Open Accounts       7500 non-null   float64\n",
            " 5   Years of Credit History       7500 non-null   float64\n",
            " 6   Maximum Open Credit           7500 non-null   float64\n",
            " 7   Number of Credit Problems     7500 non-null   float64\n",
            " 8   Months since last delinquent  3419 non-null   float64\n",
            " 9   Bankruptcies                  7486 non-null   float64\n",
            " 10  Purpose                       7500 non-null   object \n",
            " 11  Term                          7500 non-null   object \n",
            " 12  Current Loan Amount           7500 non-null   float64\n",
            " 13  Current Credit Balance        7500 non-null   float64\n",
            " 14  Monthly Debt                  7500 non-null   float64\n",
            " 15  Credit Score                  5943 non-null   float64\n",
            " 16  Credit Default                7500 non-null   int64  \n",
            "dtypes: float64(12), int64(1), object(4)\n",
            "memory usage: 996.2+ KB\n"
          ],
          "name": "stdout"
        }
      ]
    },
    {
      "cell_type": "code",
      "metadata": {
        "colab": {
          "base_uri": "https://localhost:8080/",
          "height": 513
        },
        "id": "4d0Gw7dReVpo",
        "outputId": "1e6785f9-04cc-4e55-8e96-a5af11a46db3"
      },
      "source": [
        "plt.figure(figsize = (16, 8))\n",
        "\n",
        "df_train['Maximum Open Credit'].hist(bins=200)\n",
        "plt.yscale(value='log')\n",
        "plt.ylabel('Count')\n",
        "plt.xlabel('Value')\n",
        "\n",
        "plt.title('Maximum Open Credit distribution')\n",
        "plt.show()"
      ],
      "execution_count": null,
      "outputs": [
        {
          "output_type": "display_data",
          "data": {
            "image/png": "[encoded data removed]",
            "text/plain": [
              "<Figure size 1152x576 with 1 Axes>"
            ]
          },
          "metadata": {
            "tags": [],
            "needs_background": "light"
          }
        }
      ]
    },
    {
      "cell_type": "code",
      "metadata": {
        "colab": {
          "base_uri": "https://localhost:8080/",
          "height": 513
        },
        "id": "aikvGJYhgezk",
        "outputId": "ed9bef48-5231-4e22-f247-2afd47e3624b"
      },
      "source": [
        "plt.figure(figsize = (16, 8))\n",
        "\n",
        "df_train['Current Loan Amount'].hist(bins=300)\n",
        "plt.yscale(value='log')\n",
        "plt.ylabel('Count')\n",
        "plt.xlabel('Value')\n",
        "\n",
        "plt.title('Current Loan Amount distribution')\n",
        "plt.show()"
      ],
      "execution_count": null,
      "outputs": [
        {
          "output_type": "display_data",
          "data": {
            "image/png": "[encoded data removed]",
            "text/plain": [
              "<Figure size 1152x576 with 1 Axes>"
            ]
          },
          "metadata": {
            "tags": [],
            "needs_background": "light"
          }
        }
      ]
    },
    {
      "cell_type": "code",
      "metadata": {
        "colab": {
          "base_uri": "https://localhost:8080/"
        },
        "id": "bIYgpU6DgsUC",
        "outputId": "9d5e1331-156c-43f1-eb2b-bed442f381f5"
      },
      "source": [
        "df_train['Credit Score'].sort_values().unique()"
      ],
      "execution_count": null,
      "outputs": [
        {
          "output_type": "execute_result",
          "data": {
            "text/plain": [
              "array([ 585.,  586.,  588.,  589.,  590.,  591.,  593.,  594.,  597.,\n",
              "        598.,  599.,  601.,  602.,  604.,  606.,  607.,  608.,  609.,\n",
              "        610.,  611.,  612.,  613.,  614.,  615.,  616.,  617.,  618.,\n",
              "        619.,  620.,  621.,  622.,  624.,  625.,  626.,  627.,  628.,\n",
              "        629.,  630.,  631.,  632.,  633.,  634.,  635.,  636.,  637.,\n",
              "        638.,  639.,  640.,  642.,  643.,  644.,  645.,  646.,  647.,\n",
              "        648.,  649.,  650.,  651.,  652.,  653.,  654.,  655.,  656.,\n",
              "        657.,  658.,  659.,  660.,  661.,  662.,  663.,  664.,  665.,\n",
              "        666.,  667.,  668.,  669.,  670.,  671.,  672.,  673.,  674.,\n",
              "        675.,  676.,  677.,  678.,  679.,  680.,  681.,  682.,  683.,\n",
              "        684.,  685.,  686.,  687.,  688.,  689.,  690.,  691.,  692.,\n",
              "        693.,  694.,  695.,  696.,  697.,  698.,  699.,  700.,  701.,\n",
              "        702.,  703.,  704.,  705.,  706.,  707.,  708.,  709.,  710.,\n",
              "        711.,  712.,  713.,  714.,  715.,  716.,  717.,  718.,  719.,\n",
              "        720.,  721.,  722.,  723.,  724.,  725.,  726.,  727.,  728.,\n",
              "        729.,  730.,  731.,  732.,  733.,  734.,  735.,  736.,  737.,\n",
              "        738.,  739.,  740.,  741.,  742.,  743.,  744.,  745.,  746.,\n",
              "        747.,  748.,  749.,  750.,  751., 6060., 6110., 6150., 6160.,\n",
              "       6170., 6180., 6210., 6220., 6230., 6270., 6280., 6320., 6410.,\n",
              "       6450., 6470., 6480., 6490., 6500., 6520., 6560., 6570., 6580.,\n",
              "       6590., 6600., 6610., 6620., 6630., 6640., 6650., 6670., 6680.,\n",
              "       6690., 6710., 6740., 6750., 6760., 6770., 6780., 6790., 6800.,\n",
              "       6810., 6820., 6830., 6840., 6850., 6860., 6880., 6890., 6900.,\n",
              "       6910., 6920., 6930., 6940., 6950., 6960., 6970., 6980., 6990.,\n",
              "       7000., 7010., 7020., 7030., 7040., 7050., 7060., 7070., 7080.,\n",
              "       7090., 7100., 7110., 7120., 7130., 7140., 7150., 7160., 7170.,\n",
              "       7180., 7190., 7200., 7210., 7220., 7230., 7240., 7250., 7260.,\n",
              "       7270., 7280., 7290., 7300., 7310., 7320., 7330., 7340., 7350.,\n",
              "       7360., 7370., 7380., 7390., 7400., 7410., 7420., 7430., 7440.,\n",
              "       7450., 7460., 7470., 7480., 7490., 7500., 7510.,   nan])"
            ]
          },
          "metadata": {
            "tags": []
          },
          "execution_count": 329
        }
      ]
    },
    {
      "cell_type": "markdown",
      "metadata": {
        "id": "j1TexjEGUcjl"
      },
      "source": [
        "###Класс подготовки исходных данных"
      ]
    },
    {
      "cell_type": "code",
      "metadata": {
        "id": "BsQxHDjxUiZ8"
      },
      "source": [
        "class DataPreprocessing:\n",
        "    \"\"\"Подготовка исходных данных\"\"\"\n",
        "\n",
        "    def __init__(self):\n",
        "        \"\"\"Параметры класса\"\"\"\n",
        "        self.medians = None\n",
        "        self.max_credit_mean = None\n",
        "        self.cur_loan_amount_mean = None\n",
        "\n",
        "        \n",
        "    def fit(self, X):\n",
        "        \"\"\"Сохранение статистик\"\"\"       \n",
        "        self.medians = X.median()\n",
        "        self.max_credit_mean = round(X.loc[X['Maximum Open Credit'] <= 20000000.0, 'Maximum Open Credit'].mean())\n",
        "        self.cur_loan_amount_mean = round(X.loc[X['Current Loan Amount'] != 99999999.0, 'Current Loan Amount'].mean())\n",
        "        \n",
        "    \n",
        "    def transform(self, X):\n",
        "        \"\"\"Трансформация данных\"\"\"\n",
        "\n",
        "        # Maximum Open Credit. Значения больше 20 млн. принимаем за выбросы, заменяем на среднее\n",
        "        X.loc[X['Maximum Open Credit'] > 20000000.0, 'Maximum Open Credit'] = self.max_credit_mean\n",
        "        \n",
        "        #Current Loan Amount. Значения равные 99999999.0 принимаем за выбросы, заменяем на среднее\n",
        "        X.loc[X['Current Loan Amount'] == 99999999.0, 'Current Loan Amount'] = self.cur_loan_amount_mean\n",
        "\n",
        "        #Credit Score. \n",
        "        #Т.к. значения кредитного скоринга должны быть не более 999, считаем, что значениям больше 999 был некорректно добавлен лишний десяток\n",
        "        X['Credit Score_outlier'] = 0\n",
        "        X.loc[X['Credit Score'] > 999, 'Credit Score_outlier'] = 1\n",
        "        X.loc[X['Credit Score'] > 999, 'Credit Score'] = X.loc[X['Credit Score'] > 999, 'Credit Score'] / 10\n",
        "\n",
        "        X['Credit Score_nan'] = 0\n",
        "        X.loc[X['Credit Score'].isna(), 'Credit Score_nan'] = 1\n",
        "        X.loc[X['Credit Score'].isna(), 'Credit Score'] = self.medians['Credit Score']\n",
        "\n",
        "        #Annual Income\n",
        "        X['Annual Income_nan'] = 0\n",
        "        X.loc[X['Annual Income'].isna(), 'Annual Income_nan'] = 1\n",
        "        X.loc[X['Annual Income'].isna(), 'Annual Income'] = self.medians['Annual Income']\n",
        "        \n",
        "        #Months since last delinquent\n",
        "        X['Months since last delinquent_nan'] = 0\n",
        "        X.loc[X['Months since last delinquent'].isna(), 'Months since last delinquent_nan'] = 1\n",
        "        X.loc[X['Months since last delinquent'].isna(), 'Months since last delinquent'] = self.medians['Months since last delinquent']\n",
        "\n",
        "        #Bankruptcies\n",
        "        X.loc[X['Bankruptcies'].isna(), 'Bankruptcies'] = self.medians['Bankruptcies']\n",
        "        \n",
        "        X.fillna(self.medians, inplace=True)\n",
        "        \n",
        "        return X"
      ],
      "execution_count": null,
      "outputs": []
    },
    {
      "cell_type": "markdown",
      "metadata": {
        "id": "d5x7JsI7h9st"
      },
      "source": [
        "### Класс генерации новых признаков"
      ]
    },
    {
      "cell_type": "code",
      "metadata": {
        "id": "166RlqxviCN6"
      },
      "source": [
        "class FeatureGenetator():\n",
        "    \"\"\"Генерация новых фич\"\"\"\n",
        "    \n",
        "    def __init__(self):\n",
        "        \n",
        "        self.binary_to_num_years = None\n",
        "        self.binary_to_num_purpose = None\n",
        "\n",
        "        \n",
        "    def fit(self, X):\n",
        "        \n",
        "        X = X.copy()\n",
        "        \n",
        "        # Binary features. Задаем текстовым значениям соответствующие числовые значения\n",
        "        self.binary_to_num_years = {'< 1 year': 0, '1 year': 1, '2 years': 2, '3 years': 3, '4 years': 4, '5 years': 5, \\\n",
        "                                    '6 years': 6, '7 years': 7, '8 years': 8, '9 years': 9, '10+ years': 10}\n",
        "        \n",
        "        df = X\n",
        "        df['Purpose'] = df['Purpose'].astype('category')\n",
        "        df['Purpose_num'] = df['Purpose'].cat.codes\n",
        "        self.binary_to_num_purpose = df.loc[:, ['Purpose', 'Purpose_num']].groupby('Purpose')['Purpose_num'].max().to_dict()   \n",
        "   \n",
        "                \n",
        "    def transform(self, X):\n",
        "        \n",
        "        #Home Ownership\n",
        "        X = pd.get_dummies(X, columns=['Home Ownership'])\n",
        "        \n",
        "        #Years in current job\n",
        "        X['Years in current job'] = X['Years in current job'].map(self.binary_to_num_years)\n",
        "        \n",
        "        X['Years in current job_nan'] = 0\n",
        "        X.loc[X['Years in current job'].isna(), 'Years in current job_nan'] = 1\n",
        "        X.loc[X['Years in current job'].isna(), 'Years in current job'] = X['Years in current job'].median()\n",
        "        \n",
        "        X = self.years_in_groups(X)\n",
        "\n",
        "        #Purpose\n",
        "        X['Purpose'] = X['Purpose'].map(self.binary_to_num_purpose)\n",
        "        X['Purpose'] = X['Purpose'].astype('category')   \n",
        "\n",
        "        return X\n",
        "\n",
        "\n",
        "    def years_in_groups(self, X):\n",
        "        bins = [-1, 0, 3, 6, 9, 10]\n",
        "        X['Groups of years in job_cat'] = pd.cut(X['Years in current job'], bins=bins, labels=False)\n",
        "\n",
        "        X['Groups of years in job_cat'].fillna(-1, inplace=True)\n",
        "        X['Groups of years in job_cat'] = X['Groups of years in job_cat'].astype('category')\n",
        "\n",
        "        return X\n"
      ],
      "execution_count": null,
      "outputs": []
    },
    {
      "cell_type": "markdown",
      "metadata": {
        "id": "S0FWpbaZFAzL"
      },
      "source": [
        "###Отбор признаков"
      ]
    },
    {
      "cell_type": "code",
      "metadata": {
        "id": "gtSDwWyxEqDY"
      },
      "source": [
        "feature_names = ['Annual Income', 'Years in current job', 'Tax Liens',\n",
        "                'Number of Open Accounts', 'Years of Credit History',\n",
        "                'Maximum Open Credit', 'Number of Credit Problems',\n",
        "                'Months since last delinquent', 'Bankruptcies', 'Purpose',\n",
        "                'Current Loan Amount', 'Current Credit Balance', 'Monthly Debt',\n",
        "                'Credit Score']\n",
        "\n",
        "new_feature_names = ['Credit Score_outlier', 'Credit Score_nan',\n",
        "                    'Annual Income_nan', 'Months since last delinquent_nan',\n",
        "                    'Home Ownership_Have Mortgage', 'Home Ownership_Home Mortgage',\n",
        "                    'Home Ownership_Own Home', 'Home Ownership_Rent',\n",
        "                    'Years in current job_nan', 'Groups of years in job_cat']\n",
        "\n",
        "target_name = 'Credit Default'"
      ],
      "execution_count": null,
      "outputs": []
    },
    {
      "cell_type": "markdown",
      "metadata": {
        "id": "Mfucl6nIF-d1"
      },
      "source": [
        "###Разбиение на test и train"
      ]
    },
    {
      "cell_type": "code",
      "metadata": {
        "id": "RwMGCh5GGFJ3"
      },
      "source": [
        "X = df_train.drop(columns=target_name)\n",
        "y = df_train[target_name]"
      ],
      "execution_count": null,
      "outputs": []
    },
    {
      "cell_type": "code",
      "metadata": {
        "id": "-LdZr8zoGjtQ"
      },
      "source": [
        "X_train, X_valid, y_train, y_valid = train_test_split(X, y, test_size=0.33, shuffle=True, random_state=21)"
      ],
      "execution_count": null,
      "outputs": []
    },
    {
      "cell_type": "markdown",
      "metadata": {
        "id": "DHBA5GnU37Fe"
      },
      "source": [
        "###Балансировка целевой переменной"
      ]
    },
    {
      "cell_type": "code",
      "metadata": {
        "colab": {
          "base_uri": "https://localhost:8080/"
        },
        "id": "dxiFQfxE4ETY",
        "outputId": "d912e833-b9d5-4026-fbd3-eb1d78dd9596"
      },
      "source": [
        "df_for_balancing = pd.concat([X_train, y_train], axis=1)\n",
        "df_balanced = balance_df_by_target(df_for_balancing, target_name)\n",
        "    \n",
        "df_balanced[target_name].value_counts()"
      ],
      "execution_count": null,
      "outputs": [
        {
          "output_type": "execute_result",
          "data": {
            "text/plain": [
              "0    3611\n",
              "1    2828\n",
              "Name: Credit Default, dtype: int64"
            ]
          },
          "metadata": {
            "tags": []
          },
          "execution_count": 335
        }
      ]
    },
    {
      "cell_type": "code",
      "metadata": {
        "id": "ul84Na9l4HIg"
      },
      "source": [
        "X_train = df_balanced.drop(columns=target_name)\n",
        "y_train = df_balanced[target_name]"
      ],
      "execution_count": null,
      "outputs": []
    },
    {
      "cell_type": "markdown",
      "metadata": {
        "id": "lSgeW0oEG9Dc"
      },
      "source": [
        "###Подготовка данных"
      ]
    },
    {
      "cell_type": "code",
      "metadata": {
        "colab": {
          "base_uri": "https://localhost:8080/"
        },
        "id": "6ko0nkMbHBtB",
        "outputId": "4d9faa47-c540-477f-8afb-143c27222526"
      },
      "source": [
        "preprocessor = DataPreprocessing()\n",
        "preprocessor.fit(X_train)\n",
        "\n",
        "X_train = preprocessor.transform(X_train)\n",
        "X_valid = preprocessor.transform(X_valid)\n",
        "df_test = preprocessor.transform(df_test)\n",
        "\n",
        "X_train.shape, X_valid.shape, df_test.shape"
      ],
      "execution_count": null,
      "outputs": [
        {
          "output_type": "execute_result",
          "data": {
            "text/plain": [
              "((6439, 20), (2475, 20), (2500, 20))"
            ]
          },
          "metadata": {
            "tags": []
          },
          "execution_count": 337
        }
      ]
    },
    {
      "cell_type": "markdown",
      "metadata": {
        "id": "-Od-BdMDIZEj"
      },
      "source": [
        "###Генерация новых признаков"
      ]
    },
    {
      "cell_type": "code",
      "metadata": {
        "colab": {
          "base_uri": "https://localhost:8080/"
        },
        "id": "4DurOJ60IcwS",
        "outputId": "3e88431a-1eac-41e1-9f6d-4e46eaf039ab"
      },
      "source": [
        "features_gen = FeatureGenetator()\n",
        "features_gen.fit(X_train)\n",
        "\n",
        "X_train = features_gen.transform(X_train)\n",
        "X_valid = features_gen.transform(X_valid)\n",
        "df_test = features_gen.transform(df_test)\n",
        "\n",
        "X_train.shape, X_valid.shape, df_test.shape"
      ],
      "execution_count": null,
      "outputs": [
        {
          "output_type": "execute_result",
          "data": {
            "text/plain": [
              "((6439, 25), (2475, 25), (2500, 25))"
            ]
          },
          "metadata": {
            "tags": []
          },
          "execution_count": 338
        }
      ]
    },
    {
      "cell_type": "code",
      "metadata": {
        "id": "381_dH3ZNXa-"
      },
      "source": [
        "X_train = X_train[feature_names + new_feature_names]\n",
        "X_valid = X_valid[feature_names + new_feature_names]\n",
        "df_test = df_test[feature_names + new_feature_names]"
      ],
      "execution_count": null,
      "outputs": []
    },
    {
      "cell_type": "code",
      "metadata": {
        "colab": {
          "base_uri": "https://localhost:8080/"
        },
        "id": "w0TisUejJkiY",
        "outputId": "e212fe04-99b9-422f-8bc6-ac3b372e107c"
      },
      "source": [
        "X_train.isna().sum().sum(), X_valid.isna().sum().sum(), df_test.isna().sum().sum()"
      ],
      "execution_count": null,
      "outputs": [
        {
          "output_type": "execute_result",
          "data": {
            "text/plain": [
              "(0, 0, 0)"
            ]
          },
          "metadata": {
            "tags": []
          },
          "execution_count": 340
        }
      ]
    },
    {
      "cell_type": "markdown",
      "metadata": {
        "id": "i_CU_w6PLE5C"
      },
      "source": [
        "###Построение модели"
      ]
    },
    {
      "cell_type": "code",
      "metadata": {
        "colab": {
          "base_uri": "https://localhost:8080/"
        },
        "id": "Wnj_XWuqLH8A",
        "outputId": "0fa6728f-5d73-4770-9327-c471a7cc9927"
      },
      "source": [
        "model_catb = catb.CatBoostClassifier(silent=True, random_state=21)\n",
        "model_catb.fit(X_train, y_train, cat_features=[9, 23])\n",
        "\n",
        "y_train_pred = model_catb.predict(X_train)\n",
        "y_valid_pred = model_catb.predict(X_valid)\n",
        "\n",
        "get_classification_report(y_train, y_train_pred, y_valid, y_valid_pred)"
      ],
      "execution_count": null,
      "outputs": [
        {
          "output_type": "stream",
          "text": [
            "TRAIN\n",
            "\n",
            "              precision    recall  f1-score   support\n",
            "\n",
            "           0       0.88      0.95      0.92      3611\n",
            "           1       0.93      0.84      0.88      2828\n",
            "\n",
            "    accuracy                           0.90      6439\n",
            "   macro avg       0.91      0.90      0.90      6439\n",
            "weighted avg       0.91      0.90      0.90      6439\n",
            "\n",
            "TEST\n",
            "\n",
            "              precision    recall  f1-score   support\n",
            "\n",
            "           0       0.80      0.85      0.82      1776\n",
            "           1       0.54      0.46      0.49       699\n",
            "\n",
            "    accuracy                           0.74      2475\n",
            "   macro avg       0.67      0.65      0.66      2475\n",
            "weighted avg       0.72      0.74      0.73      2475\n",
            "\n",
            "CONFUSION MATRIX\n",
            "\n",
            "col_0              0    1\n",
            "Credit Default           \n",
            "0               1501  275\n",
            "1                379  320\n"
          ],
          "name": "stdout"
        }
      ]
    },
    {
      "cell_type": "markdown",
      "metadata": {
        "id": "K3phoLaMlL8y"
      },
      "source": [
        "Подбор гиперпараметров"
      ]
    },
    {
      "cell_type": "code",
      "metadata": {
        "id": "iurIoE96QAz6"
      },
      "source": [
        "model_catb = catb.CatBoostClassifier(silent=True, random_state=21)"
      ],
      "execution_count": null,
      "outputs": []
    },
    {
      "cell_type": "code",
      "metadata": {
        "id": "WsFrA42DQCOY"
      },
      "source": [
        "params = {'n_estimators':[400, 450, 500, 550], \n",
        "          'max_depth':[2, 3, 4, 5],\n",
        "          'learning_rate':[0.01, 0.03, 0.04, 0.05]}"
      ],
      "execution_count": null,
      "outputs": []
    },
    {
      "cell_type": "code",
      "metadata": {
        "id": "c7_a_ddjQIfn"
      },
      "source": [
        "cv=KFold(n_splits=3, random_state=21, shuffle=True)"
      ],
      "execution_count": null,
      "outputs": []
    },
    {
      "cell_type": "code",
      "metadata": {
        "colab": {
          "base_uri": "https://localhost:8080/"
        },
        "id": "qiZV0nHqQX1M",
        "outputId": "ab690843-2015-4425-804b-3f3aa2e79329"
      },
      "source": [
        "%%time\n",
        "\n",
        "rs = RandomizedSearchCV(model_catb, params, scoring='f1', cv=cv, n_jobs=-1)\n",
        "rs.fit(X_train, y_train, cat_features=[9, 23])"
      ],
      "execution_count": null,
      "outputs": [
        {
          "output_type": "stream",
          "text": [
            "CPU times: user 6.71 s, sys: 400 ms, total: 7.11 s\n",
            "Wall time: 1min 35s\n"
          ],
          "name": "stdout"
        }
      ]
    },
    {
      "cell_type": "code",
      "metadata": {
        "colab": {
          "base_uri": "https://localhost:8080/"
        },
        "id": "goqOfrA-SMGS",
        "outputId": "48f1eb6c-2fd4-485e-e89b-d3faa9144516"
      },
      "source": [
        "rs.best_params_"
      ],
      "execution_count": null,
      "outputs": [
        {
          "output_type": "execute_result",
          "data": {
            "text/plain": [
              "{'learning_rate': 0.05, 'max_depth': 4, 'n_estimators': 500}"
            ]
          },
          "metadata": {
            "tags": []
          },
          "execution_count": 346
        }
      ]
    },
    {
      "cell_type": "code",
      "metadata": {
        "colab": {
          "base_uri": "https://localhost:8080/"
        },
        "id": "9zB0z1xDSSmX",
        "outputId": "bacaa721-4c33-4abc-fa01-c8bffa820095"
      },
      "source": [
        "rs.best_score_"
      ],
      "execution_count": null,
      "outputs": [
        {
          "output_type": "execute_result",
          "data": {
            "text/plain": [
              "0.6530784790261946"
            ]
          },
          "metadata": {
            "tags": []
          },
          "execution_count": 347
        }
      ]
    },
    {
      "cell_type": "markdown",
      "metadata": {
        "id": "2LhxF2GslONR"
      },
      "source": [
        "Обучение и оценка финальной модели"
      ]
    },
    {
      "cell_type": "code",
      "metadata": {
        "colab": {
          "base_uri": "https://localhost:8080/"
        },
        "id": "qjipYyAHSiUI",
        "outputId": "ac3c39a7-2488-47ef-e70d-d90062389a42"
      },
      "source": [
        "model_catb = catb.CatBoostClassifier(n_estimators=500, max_depth=2, learning_rate=0.05, \n",
        "                                     silent=True, random_state=21)\n",
        "model_catb.fit(X_train, y_train, cat_features=[9, 23])\n",
        "\n",
        "y_train_pred = model_catb.predict(X_train)\n",
        "y_valid_pred = model_catb.predict(X_valid)\n",
        "\n",
        "get_classification_report(y_train, y_train_pred, y_valid, y_valid_pred)"
      ],
      "execution_count": null,
      "outputs": [
        {
          "output_type": "stream",
          "text": [
            "TRAIN\n",
            "\n",
            "              precision    recall  f1-score   support\n",
            "\n",
            "           0       0.73      0.86      0.79      3611\n",
            "           1       0.76      0.59      0.66      2828\n",
            "\n",
            "    accuracy                           0.74      6439\n",
            "   macro avg       0.74      0.72      0.72      6439\n",
            "weighted avg       0.74      0.74      0.73      6439\n",
            "\n",
            "TEST\n",
            "\n",
            "              precision    recall  f1-score   support\n",
            "\n",
            "           0       0.81      0.83      0.82      1776\n",
            "           1       0.53      0.49      0.51       699\n",
            "\n",
            "    accuracy                           0.73      2475\n",
            "   macro avg       0.67      0.66      0.66      2475\n",
            "weighted avg       0.73      0.73      0.73      2475\n",
            "\n",
            "CONFUSION MATRIX\n",
            "\n",
            "col_0              0    1\n",
            "Credit Default           \n",
            "0               1470  306\n",
            "1                354  345\n"
          ],
          "name": "stdout"
        }
      ]
    },
    {
      "cell_type": "markdown",
      "metadata": {
        "id": "47RUB9sjlcto"
      },
      "source": [
        "Важность признаков"
      ]
    },
    {
      "cell_type": "code",
      "metadata": {
        "colab": {
          "base_uri": "https://localhost:8080/",
          "height": 458
        },
        "id": "ULxhtuPNGYMK",
        "outputId": "92f2fc18-3ffa-4f16-f697-50f7326ef6d3"
      },
      "source": [
        "important_features_top = show_feature_importances(X_train.columns, model_catb.feature_importances_, get_top=15)"
      ],
      "execution_count": null,
      "outputs": [
        {
          "output_type": "display_data",
          "data": {
            "image/png": "[encoded data removed]",
            "text/plain": [
              "<Figure size 1440x613.44 with 1 Axes>"
            ]
          },
          "metadata": {
            "tags": [],
            "needs_background": "light"
          }
        }
      ]
    },
    {
      "cell_type": "markdown",
      "metadata": {
        "id": "wTvibDZflfJW"
      },
      "source": [
        "###Прогнозирование на тестовом датасете"
      ]
    },
    {
      "cell_type": "code",
      "metadata": {
        "colab": {
          "base_uri": "https://localhost:8080/"
        },
        "id": "Tr6kJBbMllq8",
        "outputId": "85f68d4b-e306-48dc-bbbb-41b1d3bccf98"
      },
      "source": [
        "predictions = model_catb.predict(df_test)\n",
        "predictions"
      ],
      "execution_count": null,
      "outputs": [
        {
          "output_type": "execute_result",
          "data": {
            "text/plain": [
              "array([0, 1, 1, ..., 1, 0, 1])"
            ]
          },
          "metadata": {
            "tags": []
          },
          "execution_count": 350
        }
      ]
    },
    {
      "cell_type": "code",
      "metadata": {
        "colab": {
          "base_uri": "https://localhost:8080/",
          "height": 402
        },
        "id": "y4t-YKMMpbDS",
        "outputId": "0cec34e6-65ed-4e54-d404-e8c31bce9c1b"
      },
      "source": [
        "submit = pd.DataFrame({'Credit Default': predictions}, columns=['Credit Default'])\n",
        "submit"
      ],
      "execution_count": null,
      "outputs": [
        {
          "output_type": "execute_result",
          "data": {
            "text/html": [
              "<div>\n",
              "<style scoped>\n",
              "    .dataframe tbody tr th:only-of-type {\n",
              "        vertical-align: middle;\n",
              "    }\n",
              "\n",
              "    .dataframe tbody tr th {\n",
              "        vertical-align: top;\n",
              "    }\n",
              "\n",
              "    .dataframe thead th {\n",
              "        text-align: right;\n",
              "    }\n",
              "</style>\n",
              "<table border=\"1\" class=\"dataframe\">\n",
              "  <thead>\n",
              "    <tr style=\"text-align: right;\">\n",
              "      <th></th>\n",
              "      <th>Credit Default</th>\n",
              "    </tr>\n",
              "  </thead>\n",
              "  <tbody>\n",
              "    <tr>\n",
              "      <th>0</th>\n",
              "      <td>0</td>\n",
              "    </tr>\n",
              "    <tr>\n",
              "      <th>1</th>\n",
              "      <td>1</td>\n",
              "    </tr>\n",
              "    <tr>\n",
              "      <th>2</th>\n",
              "      <td>1</td>\n",
              "    </tr>\n",
              "    <tr>\n",
              "      <th>3</th>\n",
              "      <td>0</td>\n",
              "    </tr>\n",
              "    <tr>\n",
              "      <th>4</th>\n",
              "      <td>0</td>\n",
              "    </tr>\n",
              "    <tr>\n",
              "      <th>...</th>\n",
              "      <td>...</td>\n",
              "    </tr>\n",
              "    <tr>\n",
              "      <th>2495</th>\n",
              "      <td>0</td>\n",
              "    </tr>\n",
              "    <tr>\n",
              "      <th>2496</th>\n",
              "      <td>1</td>\n",
              "    </tr>\n",
              "    <tr>\n",
              "      <th>2497</th>\n",
              "      <td>1</td>\n",
              "    </tr>\n",
              "    <tr>\n",
              "      <th>2498</th>\n",
              "      <td>0</td>\n",
              "    </tr>\n",
              "    <tr>\n",
              "      <th>2499</th>\n",
              "      <td>1</td>\n",
              "    </tr>\n",
              "  </tbody>\n",
              "</table>\n",
              "<p>2500 rows × 1 columns</p>\n",
              "</div>"
            ],
            "text/plain": [
              "      Credit Default\n",
              "0                  0\n",
              "1                  1\n",
              "2                  1\n",
              "3                  0\n",
              "4                  0\n",
              "...              ...\n",
              "2495               0\n",
              "2496               1\n",
              "2497               1\n",
              "2498               0\n",
              "2499               1\n",
              "\n",
              "[2500 rows x 1 columns]"
            ]
          },
          "metadata": {
            "tags": []
          },
          "execution_count": 351
        }
      ]
    },
    {
      "cell_type": "code",
      "metadata": {
        "id": "zmDOfcf1qwuQ"
      },
      "source": [
        "submit.to_csv('C:\\course_project\\VShilling_predictions.csv')"
      ],
      "execution_count": null,
      "outputs": []
    }
  ]
}